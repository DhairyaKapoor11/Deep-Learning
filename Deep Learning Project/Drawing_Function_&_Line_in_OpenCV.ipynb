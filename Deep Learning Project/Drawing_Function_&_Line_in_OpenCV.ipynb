{
  "nbformat": 4,
  "nbformat_minor": 0,
  "metadata": {
    "colab": {
      "name": "Drawing Function & Line in OpenCV.ipynb",
      "provenance": []
    },
    "kernelspec": {
      "name": "python3",
      "display_name": "Python 3"
    }
  },
  "cells": [
    {
      "cell_type": "code",
      "metadata": {
        "id": "9SDC2QMOlKc-"
      },
      "source": [
        "# Drawing Function in OpenCV\n",
        "# Drawing a Line"
      ],
      "execution_count": 21,
      "outputs": []
    },
    {
      "cell_type": "code",
      "metadata": {
        "id": "91GSBZ_tlUYe"
      },
      "source": [
        "import cv2"
      ],
      "execution_count": 10,
      "outputs": []
    },
    {
      "cell_type": "code",
      "metadata": {
        "id": "QBgxB5h2mKBU"
      },
      "source": [
        "import numpy as np"
      ],
      "execution_count": 9,
      "outputs": []
    },
    {
      "cell_type": "code",
      "metadata": {
        "id": "9D6xWPGuq_Zn",
        "outputId": "83bb6a13-d7cf-41c2-e493-1e7ca86965bf",
        "colab": {
          "base_uri": "https://localhost:8080/",
          "height": 317
        }
      },
      "source": [
        "img = np.zeros((300, 300, 3), np.uint8)\n",
        "from google.colab.patches import cv2_imshow\n",
        "cv2_imshow(img)"
      ],
      "execution_count": 14,
      "outputs": [
        {
          "output_type": "display_data",
          "data": {
            "image/png": "[encoded data removed]",
            "text/plain": [
              "<PIL.Image.Image image mode=RGB size=300x300 at 0x7F76262F5B38>"
            ]
          },
          "metadata": {
            "tags": []
          }
        }
      ]
    },
    {
      "cell_type": "code",
      "metadata": {
        "id": "EzLPAsVUrsVU",
        "outputId": "7ef58fc9-be3b-414e-f659-85e320a8f640",
        "colab": {
          "base_uri": "https://localhost:8080/",
          "height": 317
        }
      },
      "source": [
        "img = np.zeros((300, 300, 3), np.uint8)\n",
        "img = cv2.line(img, (0, 0), (200, 200), (255, 0, 0), 4)\n",
        "from google.colab.patches import cv2_imshow\n",
        "cv2_imshow(img)"
      ],
      "execution_count": 16,
      "outputs": [
        {
          "output_type": "display_data",
          "data": {
            "image/png": "[encoded data removed]",
            "text/plain": [
              "<PIL.Image.Image image mode=RGB size=300x300 at 0x7F7626281780>"
            ]
          },
          "metadata": {
            "tags": []
          }
        }
      ]
    },
    {
      "cell_type": "code",
      "metadata": {
        "id": "ixsclBbwtHOb",
        "outputId": "b8a0f09c-6508-4a78-c034-c48d1e3b6179",
        "colab": {
          "base_uri": "https://localhost:8080/",
          "height": 317
        }
      },
      "source": [
        "# cv2.circle(image, centerpoint, radius, circle, thickness, lineType)\n",
        "img = cv2.circle(img, (150, 130), 50, (0, 0, 255), -1)\n",
        "cv2_imshow(img)"
      ],
      "execution_count": 17,
      "outputs": [
        {
          "output_type": "display_data",
          "data": {
            "image/png": "[encoded data removed]",
            "text/plain": [
              "<PIL.Image.Image image mode=RGB size=300x300 at 0x7F7626281FD0>"
            ]
          },
          "metadata": {
            "tags": []
          }
        }
      ]
    },
    {
      "cell_type": "code",
      "metadata": {
        "id": "V-sUcs55vfk4",
        "outputId": "6790783f-ba92-45c3-fc09-0f9c77138558",
        "colab": {
          "base_uri": "https://localhost:8080/",
          "height": 317
        }
      },
      "source": [
        "# cv2.putText(image, text,)\n",
        "text = \"GOEDUHUB\"\n",
        "\n",
        "# font\n",
        "font = cv2.FONT_HERSHEY_SIMPLEX\n",
        "\n",
        "# org\n",
        "org = (20, 50)\n",
        "\n",
        "# fontscale\n",
        "fontscale = 1\n",
        "\n",
        "# color\n",
        "color = (0, 255, 0)\n",
        "\n",
        "# thickness\n",
        "thickness = 2\n",
        "\n",
        "image = cv2.putText(img, text, org, font, fontscale, color, thickness)\n",
        "\n",
        "cv2_imshow(image)"
      ],
      "execution_count": 20,
      "outputs": [
        {
          "output_type": "display_data",
          "data": {
            "image/png": "[encoded data removed]",
            "text/plain": [
              "<PIL.Image.Image image mode=RGB size=300x300 at 0x7F76241E4A58>"
            ]
          },
          "metadata": {
            "tags": []
          }
        }
      ]
    },
    {
      "cell_type": "code",
      "metadata": {
        "id": "O70DB2jNwodA"
      },
      "source": [
        ""
      ],
      "execution_count": null,
      "outputs": []
    }
  ]
}